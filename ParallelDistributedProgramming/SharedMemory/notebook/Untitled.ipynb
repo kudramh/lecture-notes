{
 "cells": [
  {
   "cell_type": "code",
   "execution_count": null,
   "metadata": {
    "collapsed": false
   },
   "outputs": [],
   "source": [
    "#include \"random\"\n",
    "#include \"iostream\"\n",
    "#include \"cstdlib\""
   ]
  },
  {
   "cell_type": "code",
   "execution_count": null,
   "metadata": {
    "collapsed": false
   },
   "outputs": [],
   "source": [
    "void merge(int A[], int p, int q, int r){\n",
    "\tint n1 = q - p;\n",
    "\tint n2 = r - q;\n",
    "\tint L[n1], R[n2];\n",
    "\t\n",
    "\tfor(int i=0; i<n1; i++) {\n",
    "\t\tL[i] = A[ p + i ];\n",
    "\t}\n",
    "\tfor(int j=0; j<n2; j++) {\n",
    "\t\tR[j] = A[ q + j ];\n",
    "\t}\n",
    "\t\n",
    "\tL[n1]=9999; //sentinel\n",
    "\tR[n2]=9999; //sentinel\n",
    "\tint i=0;\n",
    "\tint j=0;\n",
    "\tfor(int k=p; k<r; ++k){\n",
    "\t\tif( L[i] < R[j]){\n",
    "\t\t\tA[k] = L[i++];\n",
    "\t\t} else {\n",
    "\t\t\tA[k] = R[j++];\n",
    "\t\t}\n",
    "\t}\n",
    "}"
   ]
  },
  {
   "cell_type": "code",
   "execution_count": null,
   "metadata": {
    "collapsed": false
   },
   "outputs": [],
   "source": [
    "void merge_sort(int A[], int p, int r){\n",
    "\tif (p < r-1){\n",
    "\t\tint q = ( p + r) / 2;\n",
    "\n",
    "\t\tmerge_sort(A, p, q);\n",
    "\t\tmerge_sort(A, q, r);\n",
    "\n",
    "\t\tmerge(A, p , q, r);\n",
    "\t}\n",
    "}"
   ]
  },
  {
   "cell_type": "code",
   "execution_count": null,
   "metadata": {
    "collapsed": false
   },
   "outputs": [],
   "source": [
    "int size_n = 10;\n",
    "int n[] = {3,5,2,5,67,73,2,5,3,64};"
   ]
  },
  {
   "cell_type": "code",
   "execution_count": null,
   "metadata": {
    "collapsed": false
   },
   "outputs": [],
   "source": [
    " std::random_device rd;\t// only used once to initialise (seed) engine\n",
    "    std::mt19937 rng(rd()); // random-number engine used (Mersenne-Twister in this case)\n",
    "    std::uniform_int_distribution<int> uni(1,100); // guaranteed unbiased"
   ]
  },
  {
   "cell_type": "code",
   "execution_count": null,
   "metadata": {
    "collapsed": false
   },
   "outputs": [],
   "source": [
    " merge_sort(n, 0, size_n);"
   ]
  },
  {
   "cell_type": "code",
   "execution_count": null,
   "metadata": {
    "collapsed": false
   },
   "outputs": [],
   "source": [
    "for(auto& x : n){\n",
    "        std::cout << \" \" << x;\n",
    "    }"
   ]
  },
  {
   "cell_type": "code",
   "execution_count": null,
   "metadata": {
    "collapsed": false
   },
   "outputs": [],
   "source": [
    "void merge(int A[], int p, int q, int r){\n",
    "\tint n1 = q - p;\n",
    "\tint n2 = r - q;\n",
    "\tint L[n1], R[n2];\n",
    "\t\n",
    "\tfor(int i=0; i<n1; i++) {\n",
    "\t\tL[i] = A[ p + i ];\n",
    "\t}\n",
    "\tfor(int j=0; j<n2; j++) {\n",
    "\t\tR[j] = A[ q + j ];\n",
    "\t}\n",
    "\t\n",
    "\tL[n1]=9999; //sentinel\n",
    "\tR[n2]=9999; //sentinel\n",
    "\tint i=0;\n",
    "\tint j=0;\n",
    "\tfor(int k=p; k<r; ++k){\n",
    "\t\tif( L[i] < R[j]){\n",
    "\t\t\tA[k] = L[i++];\n",
    "\t\t} else {\n",
    "\t\t\tA[k] = R[j++];\n",
    "\t\t}\n",
    "\t}\n",
    "}"
   ]
  },
  {
   "cell_type": "code",
   "execution_count": null,
   "metadata": {
    "collapsed": true
   },
   "outputs": [],
   "source": []
  },
  {
   "cell_type": "code",
   "execution_count": null,
   "metadata": {
    "collapsed": true
   },
   "outputs": [],
   "source": []
  }
 ],
 "metadata": {
  "anaconda-cloud": {},
  "kernelspec": {
   "display_name": "C++",
   "language": "",
   "name": "cling"
  },
  "language_info": {
   "codemirror_mode": "text/x-c++src",
   "file_extension": ".c++",
   "mimetype": " text/x-c++src",
   "name": "c++"
  }
 },
 "nbformat": 4,
 "nbformat_minor": 1
}
